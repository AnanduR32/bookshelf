{
 "cells": [
  {
   "cell_type": "markdown",
   "metadata": {},
   "source": [
    "# Libraries"
   ]
  },
  {
   "cell_type": "code",
   "execution_count": 1,
   "metadata": {},
   "outputs": [],
   "source": [
    "import matplotlib.pyplot as plt\n",
    "import numpy as np\n",
    "import pandas as pd \n",
    "\n",
    "import re"
   ]
  },
  {
   "cell_type": "markdown",
   "metadata": {},
   "source": [
    "# Load Data"
   ]
  },
  {
   "cell_type": "code",
   "execution_count": 2,
   "metadata": {},
   "outputs": [],
   "source": [
    "data_raw = pd.read_csv(\"data/books.csv\")"
   ]
  },
  {
   "cell_type": "code",
   "execution_count": 3,
   "metadata": {},
   "outputs": [
    {
     "data": {
      "text/html": [
       "<div>\n",
       "<style scoped>\n",
       "    .dataframe tbody tr th:only-of-type {\n",
       "        vertical-align: middle;\n",
       "    }\n",
       "\n",
       "    .dataframe tbody tr th {\n",
       "        vertical-align: top;\n",
       "    }\n",
       "\n",
       "    .dataframe thead th {\n",
       "        text-align: right;\n",
       "    }\n",
       "</style>\n",
       "<table border=\"1\" class=\"dataframe\">\n",
       "  <thead>\n",
       "    <tr style=\"text-align: right;\">\n",
       "      <th></th>\n",
       "      <th>image</th>\n",
       "      <th>name</th>\n",
       "      <th>author</th>\n",
       "      <th>format</th>\n",
       "      <th>book_depository_stars</th>\n",
       "      <th>price</th>\n",
       "      <th>currency</th>\n",
       "      <th>old_price</th>\n",
       "      <th>isbn</th>\n",
       "      <th>category</th>\n",
       "      <th>img_paths</th>\n",
       "    </tr>\n",
       "  </thead>\n",
       "  <tbody>\n",
       "    <tr>\n",
       "      <th>0</th>\n",
       "      <td>https://d1w7fb2mkkr3kw.cloudfront.net/assets/i...</td>\n",
       "      <td>This is Going to Hurt</td>\n",
       "      <td>Adam Kay</td>\n",
       "      <td>Paperback</td>\n",
       "      <td>4.5</td>\n",
       "      <td>7.6</td>\n",
       "      <td>$</td>\n",
       "      <td>11.4</td>\n",
       "      <td>9781509858637</td>\n",
       "      <td>Medical</td>\n",
       "      <td>dataset/Medical/0000001.jpg</td>\n",
       "    </tr>\n",
       "    <tr>\n",
       "      <th>1</th>\n",
       "      <td>https://d1w7fb2mkkr3kw.cloudfront.net/assets/i...</td>\n",
       "      <td>Thinking, Fast and Slow</td>\n",
       "      <td>Daniel Kahneman</td>\n",
       "      <td>Paperback</td>\n",
       "      <td>4.0</td>\n",
       "      <td>11.5</td>\n",
       "      <td>$</td>\n",
       "      <td>15.0</td>\n",
       "      <td>9780141033570</td>\n",
       "      <td>Medical</td>\n",
       "      <td>dataset/Medical/0000002.jpg</td>\n",
       "    </tr>\n",
       "    <tr>\n",
       "      <th>2</th>\n",
       "      <td>https://d1w7fb2mkkr3kw.cloudfront.net/assets/i...</td>\n",
       "      <td>When Breath Becomes Air</td>\n",
       "      <td>Paul Kalanithi</td>\n",
       "      <td>Paperback</td>\n",
       "      <td>4.5</td>\n",
       "      <td>9.05</td>\n",
       "      <td>$</td>\n",
       "      <td>11.5</td>\n",
       "      <td>9781784701994</td>\n",
       "      <td>Medical</td>\n",
       "      <td>dataset/Medical/0000003.jpg</td>\n",
       "    </tr>\n",
       "    <tr>\n",
       "      <th>3</th>\n",
       "      <td>https://d1w7fb2mkkr3kw.cloudfront.net/assets/i...</td>\n",
       "      <td>The Happiness Trap</td>\n",
       "      <td>Russ Harris</td>\n",
       "      <td>Paperback</td>\n",
       "      <td>4.0</td>\n",
       "      <td>8.34</td>\n",
       "      <td>$</td>\n",
       "      <td>13.9</td>\n",
       "      <td>9781845298258</td>\n",
       "      <td>Medical</td>\n",
       "      <td>dataset/Medical/0000004.jpg</td>\n",
       "    </tr>\n",
       "    <tr>\n",
       "      <th>4</th>\n",
       "      <td>https://d1w7fb2mkkr3kw.cloudfront.net/assets/i...</td>\n",
       "      <td>Man's Search For Meaning</td>\n",
       "      <td>Viktor E. Frankl</td>\n",
       "      <td>Paperback</td>\n",
       "      <td>4.5</td>\n",
       "      <td>9.66</td>\n",
       "      <td>$</td>\n",
       "      <td>NaN</td>\n",
       "      <td>9781846041242</td>\n",
       "      <td>Medical</td>\n",
       "      <td>dataset/Medical/0000005.jpg</td>\n",
       "    </tr>\n",
       "  </tbody>\n",
       "</table>\n",
       "</div>"
      ],
      "text/plain": [
       "                                               image  \\\n",
       "0  https://d1w7fb2mkkr3kw.cloudfront.net/assets/i...   \n",
       "1  https://d1w7fb2mkkr3kw.cloudfront.net/assets/i...   \n",
       "2  https://d1w7fb2mkkr3kw.cloudfront.net/assets/i...   \n",
       "3  https://d1w7fb2mkkr3kw.cloudfront.net/assets/i...   \n",
       "4  https://d1w7fb2mkkr3kw.cloudfront.net/assets/i...   \n",
       "\n",
       "                       name            author     format  \\\n",
       "0     This is Going to Hurt          Adam Kay  Paperback   \n",
       "1   Thinking, Fast and Slow   Daniel Kahneman  Paperback   \n",
       "2   When Breath Becomes Air    Paul Kalanithi  Paperback   \n",
       "3        The Happiness Trap       Russ Harris  Paperback   \n",
       "4  Man's Search For Meaning  Viktor E. Frankl  Paperback   \n",
       "\n",
       "   book_depository_stars price currency  old_price           isbn category  \\\n",
       "0                    4.5   7.6        $       11.4  9781509858637  Medical   \n",
       "1                    4.0  11.5        $       15.0  9780141033570  Medical   \n",
       "2                    4.5  9.05        $       11.5  9781784701994  Medical   \n",
       "3                    4.0  8.34        $       13.9  9781845298258  Medical   \n",
       "4                    4.5  9.66        $        NaN  9781846041242  Medical   \n",
       "\n",
       "                     img_paths  \n",
       "0  dataset/Medical/0000001.jpg  \n",
       "1  dataset/Medical/0000002.jpg  \n",
       "2  dataset/Medical/0000003.jpg  \n",
       "3  dataset/Medical/0000004.jpg  \n",
       "4  dataset/Medical/0000005.jpg  "
      ]
     },
     "execution_count": 3,
     "metadata": {},
     "output_type": "execute_result"
    }
   ],
   "source": [
    "data_raw.head()"
   ]
  },
  {
   "cell_type": "markdown",
   "metadata": {},
   "source": [
    "# Exploratory Data Analysis"
   ]
  },
  {
   "cell_type": "code",
   "execution_count": 4,
   "metadata": {},
   "outputs": [
    {
     "data": {
      "text/plain": [
       "[('image', 'object'),\n",
       " ('name', 'object'),\n",
       " ('author', 'object'),\n",
       " ('format', 'object'),\n",
       " ('book_depository_stars', 'float64'),\n",
       " ('price', 'object'),\n",
       " ('currency', 'object'),\n",
       " ('old_price', 'float64'),\n",
       " ('isbn', 'int64'),\n",
       " ('category', 'object'),\n",
       " ('img_paths', 'object')]"
      ]
     },
     "execution_count": 4,
     "metadata": {},
     "output_type": "execute_result"
    }
   ],
   "source": [
    "dtypes = list(zip(data_raw.columns, map(str,data_raw.dtypes)))\n",
    "dtypes"
   ]
  },
  {
   "cell_type": "code",
   "execution_count": 5,
   "metadata": {},
   "outputs": [
    {
     "name": "stdout",
     "output_type": "stream",
     "text": [
      "name\n",
      "['This is Going to Hurt' 'Thinking, Fast and Slow'\n",
      " 'When Breath Becomes Air' ...\n",
      " 'Complete Finnish Beginner to Intermediate Course: Learn to read, write, speak and understand a new language (Teach Yourself)'\n",
      " 'Simple Thai Food' \"L'Appart\"]\n",
      "author\n",
      "['Adam Kay' 'Daniel Kahneman' 'Paul Kalanithi' ... 'Insun Lee'\n",
      " 'Terttu Leney' 'Leela Punyaratabandhu']\n",
      "format\n",
      "['Paperback' 'Hardback' nan 'Spiral bound' 'Mixed media product' 'Cards'\n",
      " 'Fold-out book or chart' 'CD-Audio' 'Book' 'Sheet music' 'Game'\n",
      " 'Board book' 'Bath book' 'Notebook / blank book' 'Postcard book or pack'\n",
      " 'Calendar' 'Leather / fine binding' 'Diary' 'Novelty book' 'Loose-leaf'\n",
      " 'DVD video' 'CD-ROM' 'Boxed Set' 'Pamphlet' 'Sheet map'\n",
      " 'Sheet map, folded' 'Toy' 'General merchandise' 'Other merchandise'\n",
      " 'Miscellaneous print' 'Address book' 'Multiple copy pack']\n",
      "price\n",
      "['7.6' '11.5' '9.05' ... '79.73' '22.51' '58.1']\n",
      "currency\n",
      "['$']\n",
      "category\n",
      "['Medical' 'Science-Geography' 'Art-Photography' 'Biography'\n",
      " 'Business-Finance-Law' 'Childrens-Books' 'Computing' 'Crafts-Hobbies'\n",
      " 'Crime-Thriller' 'Dictionaries-Languages' 'Entertainment' 'Food-Drink'\n",
      " 'Graphic-Novels-Anime-Manga' 'Health' 'History-Archaeology' 'Home-Garden'\n",
      " 'Humour' 'Mind-Body-Spirit' 'Natural-History' 'Personal-Development'\n",
      " 'Poetry-Drama' 'Reference' 'Religion' 'Romance'\n",
      " 'Science-Fiction-Fantasy-Horror' 'Society-Social-Sciences' 'Sport'\n",
      " 'Stationery' 'Teaching-Resources-Education' 'Technology-Engineering'\n",
      " 'Teen-Young-Adult' 'Transport' 'Travel-Holiday-Guides']\n"
     ]
    }
   ],
   "source": [
    "for col, dtype in dtypes:\n",
    "    if(dtype=='object' and not (col=='image' or col=='img_paths')):\n",
    "        print(col)\n",
    "        print(data_raw[col].unique())"
   ]
  },
  {
   "cell_type": "code",
   "execution_count": 6,
   "metadata": {},
   "outputs": [
    {
     "data": {
      "text/plain": [
       "(32581, 11)"
      ]
     },
     "execution_count": 6,
     "metadata": {},
     "output_type": "execute_result"
    }
   ],
   "source": [
    "data_raw.shape"
   ]
  },
  {
   "cell_type": "code",
   "execution_count": 7,
   "metadata": {
    "scrolled": true
   },
   "outputs": [
    {
     "data": {
      "text/plain": [
       "image                       0\n",
       "name                        0\n",
       "author                    198\n",
       "format                     33\n",
       "book_depository_stars       0\n",
       "price                       0\n",
       "currency                    0\n",
       "old_price                5114\n",
       "isbn                        0\n",
       "category                    0\n",
       "img_paths                   0\n",
       "dtype: int64"
      ]
     },
     "execution_count": 7,
     "metadata": {},
     "output_type": "execute_result"
    }
   ],
   "source": [
    "data_raw.isna().sum()"
   ]
  },
  {
   "cell_type": "code",
   "execution_count": 8,
   "metadata": {},
   "outputs": [
    {
     "name": "stdout",
     "output_type": "stream",
     "text": [
      "count: 32558, shape of dataset: 32581\n"
     ]
    }
   ],
   "source": [
    "count = 0\n",
    "for i,val in enumerate(data_raw.isbn.astype(str)):\n",
    "    if(re.match(r'978\\d+',val)):\n",
    "        count+=1\n",
    "        \n",
    "print(f'count: {count}, shape of dataset: {data_raw.shape[0]}')"
   ]
  },
  {
   "cell_type": "code",
   "execution_count": 9,
   "metadata": {},
   "outputs": [
    {
     "data": {
      "text/plain": [
       "22708"
      ]
     },
     "execution_count": 9,
     "metadata": {},
     "output_type": "execute_result"
    }
   ],
   "source": [
    "len(data_raw.isbn.unique())"
   ]
  },
  {
   "cell_type": "markdown",
   "metadata": {},
   "source": [
    "### Initial inference and cleaning method\n",
    "* currency can be converted for the database storage as per requirements, base currency : US-dollars  \n",
    "* price field needs to be converted to float64 type  \n",
    "* price field - actual float value have to be extracted as certain price include '\\$' symbol\n",
    "* change name -> Title\n",
    "* category can be used to sub-categorize the books - UX\n",
    "* ISBN field needs to be converted to type 'object'\n",
    "* remove img_paths, currency  \n",
    "* rename book_depository_stars to 'Rating'\n",
    "* Remove all data with missing values\n",
    "* there are only 22708 unique isbn codes, we'll subset to only those, and then subset to a minimal set of records (2500)\n",
    "* max length of ISBN column is 13, and every isbn strictly starts with 978 hence truncate string for easier storage in database, add the truncated value later while serving API request\n",
    "\n"
   ]
  },
  {
   "cell_type": "markdown",
   "metadata": {},
   "source": [
    "#### Backup"
   ]
  },
  {
   "cell_type": "code",
   "execution_count": 10,
   "metadata": {},
   "outputs": [],
   "source": [
    "data_tmp = data_raw.copy()"
   ]
  },
  {
   "cell_type": "markdown",
   "metadata": {},
   "source": [
    "### Price"
   ]
  },
  {
   "cell_type": "code",
   "execution_count": 11,
   "metadata": {},
   "outputs": [],
   "source": [
    "data_tmp.price = data_tmp.price.str.extract(r'(\\d+.\\d+)').astype('float64')"
   ]
  },
  {
   "cell_type": "markdown",
   "metadata": {},
   "source": [
    "We will be storing price in original currency US-Dollars which can be manipulated on client side based on user inputs"
   ]
  },
  {
   "cell_type": "markdown",
   "metadata": {},
   "source": [
    "### ISBN"
   ]
  },
  {
   "cell_type": "code",
   "execution_count": 12,
   "metadata": {},
   "outputs": [],
   "source": [
    "data_tmp.isbn = data_tmp.isbn.astype(str).str.extract(r'978(\\d+)')"
   ]
  },
  {
   "cell_type": "markdown",
   "metadata": {},
   "source": [
    "### Drop unnecessary columns"
   ]
  },
  {
   "cell_type": "code",
   "execution_count": 13,
   "metadata": {},
   "outputs": [],
   "source": [
    "data_tmp.drop(['currency','img_paths'], axis = 1, inplace = True)"
   ]
  },
  {
   "cell_type": "markdown",
   "metadata": {},
   "source": [
    "### Title"
   ]
  },
  {
   "cell_type": "code",
   "execution_count": 14,
   "metadata": {},
   "outputs": [],
   "source": [
    "data_tmp.rename(\n",
    "    {\n",
    "        'name':'Title',\n",
    "        'author':'Author',\n",
    "        'book_depository_stars': 'Rating',\n",
    "        'image': 'Image',\n",
    "        'format': 'Format',\n",
    "        'price': 'Price',\n",
    "        'old_price': 'OldPrice',\n",
    "        'isbn': 'ISBN',\n",
    "        'category': 'Category',\n",
    "    },\n",
    "    axis = 1,\n",
    "    inplace = True\n",
    ")"
   ]
  },
  {
   "cell_type": "markdown",
   "metadata": {},
   "source": [
    "### Missing data"
   ]
  },
  {
   "cell_type": "code",
   "execution_count": 15,
   "metadata": {},
   "outputs": [],
   "source": [
    "data_tmp.dropna(inplace = True)"
   ]
  },
  {
   "cell_type": "markdown",
   "metadata": {},
   "source": [
    "### Subsetting"
   ]
  },
  {
   "cell_type": "code",
   "execution_count": 16,
   "metadata": {},
   "outputs": [
    {
     "data": {
      "text/plain": [
       "(27278, 9)"
      ]
     },
     "execution_count": 16,
     "metadata": {},
     "output_type": "execute_result"
    }
   ],
   "source": [
    "data_tmp.shape"
   ]
  },
  {
   "cell_type": "code",
   "execution_count": 17,
   "metadata": {},
   "outputs": [],
   "source": [
    "data_tmp.drop_duplicates('ISBN', inplace = True)"
   ]
  },
  {
   "cell_type": "code",
   "execution_count": 18,
   "metadata": {},
   "outputs": [],
   "source": [
    "data_tmp = data_tmp.sample(n = 2500, random_state = 197)"
   ]
  },
  {
   "cell_type": "markdown",
   "metadata": {},
   "source": [
    "#### Cleaned data"
   ]
  },
  {
   "cell_type": "code",
   "execution_count": 19,
   "metadata": {},
   "outputs": [],
   "source": [
    "data_clean = data_tmp.copy()"
   ]
  },
  {
   "cell_type": "code",
   "execution_count": 20,
   "metadata": {},
   "outputs": [],
   "source": [
    "data_clean.reset_index(inplace = True, drop = True)"
   ]
  },
  {
   "cell_type": "code",
   "execution_count": 21,
   "metadata": {},
   "outputs": [
    {
     "data": {
      "text/html": [
       "<div>\n",
       "<style scoped>\n",
       "    .dataframe tbody tr th:only-of-type {\n",
       "        vertical-align: middle;\n",
       "    }\n",
       "\n",
       "    .dataframe tbody tr th {\n",
       "        vertical-align: top;\n",
       "    }\n",
       "\n",
       "    .dataframe thead th {\n",
       "        text-align: right;\n",
       "    }\n",
       "</style>\n",
       "<table border=\"1\" class=\"dataframe\">\n",
       "  <thead>\n",
       "    <tr style=\"text-align: right;\">\n",
       "      <th></th>\n",
       "      <th>Image</th>\n",
       "      <th>Title</th>\n",
       "      <th>Author</th>\n",
       "      <th>Format</th>\n",
       "      <th>Rating</th>\n",
       "      <th>Price</th>\n",
       "      <th>OldPrice</th>\n",
       "      <th>ISBN</th>\n",
       "      <th>Category</th>\n",
       "    </tr>\n",
       "  </thead>\n",
       "  <tbody>\n",
       "    <tr>\n",
       "      <th>0</th>\n",
       "      <td>https://d1w7fb2mkkr3kw.cloudfront.net/assets/i...</td>\n",
       "      <td>Project X Origins: Purple Book Band, Oxford Le...</td>\n",
       "      <td>Tony Bradman</td>\n",
       "      <td>Paperback</td>\n",
       "      <td>0.0</td>\n",
       "      <td>6.09</td>\n",
       "      <td>9.30</td>\n",
       "      <td>0198301790</td>\n",
       "      <td>Science-Geography</td>\n",
       "    </tr>\n",
       "    <tr>\n",
       "      <th>1</th>\n",
       "      <td>https://d1w7fb2mkkr3kw.cloudfront.net/assets/i...</td>\n",
       "      <td>The Little Book of Hygge</td>\n",
       "      <td>Meik Wiking</td>\n",
       "      <td>Hardback</td>\n",
       "      <td>3.5</td>\n",
       "      <td>11.61</td>\n",
       "      <td>11.99</td>\n",
       "      <td>0241283912</td>\n",
       "      <td>Food-Drink</td>\n",
       "    </tr>\n",
       "    <tr>\n",
       "      <th>2</th>\n",
       "      <td>https://d1w7fb2mkkr3kw.cloudfront.net/assets/i...</td>\n",
       "      <td>Presentation Zen Design</td>\n",
       "      <td>Garr Reynolds</td>\n",
       "      <td>Paperback</td>\n",
       "      <td>4.0</td>\n",
       "      <td>27.30</td>\n",
       "      <td>36.50</td>\n",
       "      <td>0321934154</td>\n",
       "      <td>Computing</td>\n",
       "    </tr>\n",
       "    <tr>\n",
       "      <th>3</th>\n",
       "      <td>https://d1w7fb2mkkr3kw.cloudfront.net/assets/i...</td>\n",
       "      <td>The First World War: A Very Short Introduction</td>\n",
       "      <td>Michael Howard</td>\n",
       "      <td>Paperback</td>\n",
       "      <td>4.0</td>\n",
       "      <td>7.47</td>\n",
       "      <td>10.30</td>\n",
       "      <td>0199205592</td>\n",
       "      <td>History-Archaeology</td>\n",
       "    </tr>\n",
       "    <tr>\n",
       "      <th>4</th>\n",
       "      <td>https://d1w7fb2mkkr3kw.cloudfront.net/assets/i...</td>\n",
       "      <td>Sherman Tank Manual</td>\n",
       "      <td>Pat Ware</td>\n",
       "      <td>Hardback</td>\n",
       "      <td>4.0</td>\n",
       "      <td>23.31</td>\n",
       "      <td>27.50</td>\n",
       "      <td>0857331014</td>\n",
       "      <td>Transport</td>\n",
       "    </tr>\n",
       "  </tbody>\n",
       "</table>\n",
       "</div>"
      ],
      "text/plain": [
       "                                               Image  \\\n",
       "0  https://d1w7fb2mkkr3kw.cloudfront.net/assets/i...   \n",
       "1  https://d1w7fb2mkkr3kw.cloudfront.net/assets/i...   \n",
       "2  https://d1w7fb2mkkr3kw.cloudfront.net/assets/i...   \n",
       "3  https://d1w7fb2mkkr3kw.cloudfront.net/assets/i...   \n",
       "4  https://d1w7fb2mkkr3kw.cloudfront.net/assets/i...   \n",
       "\n",
       "                                               Title          Author  \\\n",
       "0  Project X Origins: Purple Book Band, Oxford Le...    Tony Bradman   \n",
       "1                           The Little Book of Hygge     Meik Wiking   \n",
       "2                            Presentation Zen Design   Garr Reynolds   \n",
       "3     The First World War: A Very Short Introduction  Michael Howard   \n",
       "4                                Sherman Tank Manual        Pat Ware   \n",
       "\n",
       "      Format  Rating  Price  OldPrice        ISBN             Category  \n",
       "0  Paperback     0.0   6.09      9.30  0198301790    Science-Geography  \n",
       "1   Hardback     3.5  11.61     11.99  0241283912           Food-Drink  \n",
       "2  Paperback     4.0  27.30     36.50  0321934154            Computing  \n",
       "3  Paperback     4.0   7.47     10.30  0199205592  History-Archaeology  \n",
       "4   Hardback     4.0  23.31     27.50  0857331014            Transport  "
      ]
     },
     "execution_count": 21,
     "metadata": {},
     "output_type": "execute_result"
    }
   ],
   "source": [
    "data_clean.head()"
   ]
  },
  {
   "cell_type": "markdown",
   "metadata": {},
   "source": [
    "### Saving data"
   ]
  },
  {
   "cell_type": "code",
   "execution_count": 22,
   "metadata": {},
   "outputs": [],
   "source": [
    "data_clean.to_csv('./data/data_cleaned.csv', index=False)"
   ]
  },
  {
   "cell_type": "code",
   "execution_count": null,
   "metadata": {},
   "outputs": [],
   "source": []
  }
 ],
 "metadata": {
  "kernelspec": {
   "display_name": "Python 3",
   "language": "python",
   "name": "python3"
  },
  "language_info": {
   "codemirror_mode": {
    "name": "ipython",
    "version": 3
   },
   "file_extension": ".py",
   "mimetype": "text/x-python",
   "name": "python",
   "nbconvert_exporter": "python",
   "pygments_lexer": "ipython3",
   "version": "3.8.6"
  }
 },
 "nbformat": 4,
 "nbformat_minor": 4
}
